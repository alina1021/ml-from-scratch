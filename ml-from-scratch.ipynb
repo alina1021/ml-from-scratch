{
 "cells": [
  {
   "cell_type": "markdown",
   "metadata": {},
   "source": [
    "# Machine Learning Algorithms from Scratch\n",
    "\n",
    "## Contents\n",
    "\n",
    "1. K-means\n",
    "2. Gradient Descent & Linear Regression\n",
    "3. Logistic Regression (Binary Classification, <span style=\"color:red\">Multiclass Classification</span>)\n",
    "4. Principal Components Analysis\n",
    "5. K Nearest Neighbours <span style=\"color:red\">(visualize results)</span>\n",
    "6. <span style=\"color:red\">Decision Trees</span>\n",
    "\n",
    "<span style=\"color:red\">To dos in red</span>"
   ]
  },
  {
   "cell_type": "code",
   "execution_count": 1,
   "metadata": {},
   "outputs": [
    {
     "name": "stdout",
     "output_type": "stream",
     "text": [
      "Populating the interactive namespace from numpy and matplotlib\n",
      "3.7.1 (default, Dec 14 2018, 13:28:58) \n",
      "[Clang 4.0.1 (tags/RELEASE_401/final)]\n"
     ]
    }
   ],
   "source": [
    "import numpy as np\n",
    "import pandas as pd\n",
    "import matplotlib.pyplot as plt\n",
    "import seaborn as sns\n",
    "%pylab inline\n",
    "\n",
    "from IPython.display import display\n",
    "\n",
    "print (sys.version)"
   ]
  },
  {
   "cell_type": "markdown",
   "metadata": {},
   "source": [
    "## 1. K-means\n",
    "\n",
    "### Algorithm:\n",
    "\n",
    "1. Randomly define k cluster centres\n",
    "2. Assign each data point to the nearest cluster centre\n",
    "3. Re-calculate the cluster centres as the Euclidean mean of the members of each cluster\n",
    "4. Calculate the max distance the cluster centres moved\n",
    "5. Re-peat steps 2 - 4 until the labels stop changing "
   ]
  },
  {
   "cell_type": "code",
   "execution_count": 2,
   "metadata": {},
   "outputs": [],
   "source": [
    "class Kmeans:\n",
    "    def __init__(self, data, k = 2):\n",
    "        self.data = data\n",
    "        self.n_data, self.n_features = data.shape\n",
    "        self.mean = np.mean(data, axis=0)\n",
    "        self.var = np.var(data, axis=0)\n",
    "        self.stdev = np.sqrt(self.var)\n",
    "        self.tol = 0.01\n",
    "        self.k = k\n",
    "\n",
    "    def get_initial_centres(self, seed = -1):\n",
    "        if seed > 0:\n",
    "            np.random.seed(seed)\n",
    "        centres = np.random.normal(size = (self.k, self.n_features))\n",
    "        return centres*self.stdev + self.mean\n",
    "    \n",
    "    def distances_from_centres(self, centres, p):\n",
    "        return np.sqrt(np.sum((p-centres)*(p-centres), axis=1))\n",
    "\n",
    "    def nearest_cluster(self, centres):\n",
    "        cluster_labels = np.zeros((self.n_data,1))\n",
    "        for di in range(self.n_data):\n",
    "            cluster_labels[di,0] = np.argmin(self.distances_from_centres(centres, self.data[di,:]))\n",
    "        return cluster_labels\n",
    "\n",
    "    def calculate_cluster_centres(self, cluster_labels):\n",
    "        centres = np.zeros((self.k, self.n_features))\n",
    "        for c in range(self.k):\n",
    "            n_pts = np.sum(cluster_labels == c)\n",
    "            # Don't move the point if no data points are assigned to the cluster\n",
    "            # This also prevents division by zero\n",
    "            if n_pts > 1:\n",
    "                centres[c,:] = np.sum((cluster_labels == c)*self.data, axis=0) / n_pts\n",
    "        return centres\n",
    "    \n",
    "    def find_cluster_centres(self, initial_centres, max_iterations = 20):\n",
    "        \n",
    "        centres = np.copy(initial_centres)\n",
    "        self.k = centres.shape[0]\n",
    "        labels = np.zeros((self.n_data,1))\n",
    "        \n",
    "        for i in range(max_iterations):\n",
    "            \n",
    "            # Assign each data point to the closest cluster centre\n",
    "            new_labels = self.nearest_cluster(centres)\n",
    "\n",
    "            # Calculate the new cluster centres (mean of all points in each cluster)\n",
    "            new_centres = self.calculate_cluster_centres(new_labels)\n",
    "\n",
    "            # Calculate the max change in the distance between cluster centres\n",
    "            #max_centre_change = np.max(self.distances_from_centres(centres, new_centres))\n",
    "            n_labels_changed = np.sum((new_labels-labels) != 0)\n",
    "            #print(\"centre: \", max_centre_change, \"label:\", n_label_changed)\n",
    "            \n",
    "            if n_labels_changed == 0:\n",
    "                print(\"converged in {} iterations\".format(i))\n",
    "                break\n",
    "            \n",
    "            centres = np.copy(new_centres)\n",
    "            labels = np.copy(new_labels)\n",
    "            \n",
    "        return centres, new_labels"
   ]
  },
  {
   "cell_type": "code",
   "execution_count": 3,
   "metadata": {},
   "outputs": [
    {
     "name": "stdout",
     "output_type": "stream",
     "text": [
      "Intial centres\n",
      "[[ 3.72302948 -1.288815  ]\n",
      " [-1.17544466 -2.28531331]\n",
      " [ 1.99591807 -4.93977036]\n",
      " [ 3.99717436 -1.61171876]]\n",
      "converged in 9 iterations\n",
      "Final centres\n",
      "[[ 2.1858432   2.03485541]\n",
      " [-2.1286218   1.98239571]\n",
      " [-1.8922867  -1.84433513]\n",
      " [ 2.05373119 -1.88840285]]\n"
     ]
    },
    {
     "data": {
      "image/png": "[encoded data removed]",
      "text/plain": [
       "<Figure size 432x288 with 1 Axes>"
      ]
     },
     "metadata": {
      "needs_background": "light"
     },
     "output_type": "display_data"
    }
   ],
   "source": [
    "\"\"\"Set-up some data\"\"\"\n",
    "np.random.seed(1)\n",
    "x = 2\n",
    "data1 = np.random.normal(size=(100, 2)) + [ x, x]\n",
    "data2 = np.random.normal(size=(100, 2)) + [ x,-x]\n",
    "data3 = np.random.normal(size=(100, 2)) + [-x,-x]\n",
    "data4 = np.random.normal(size=(100, 2)) + [-x, x]\n",
    "data  = np.concatenate((data1, data2, data3, data4))\n",
    "np.random.shuffle(data)\n",
    "\n",
    "\n",
    "\"\"\"Set up our Kmeans object\"\"\"\n",
    "my_kmeans = Kmeans(data, 4)\n",
    "initial_centres = my_kmeans.get_initial_centres(1)\n",
    "\n",
    "print('Intial centres')\n",
    "print(initial_centres)\n",
    "\n",
    "\"\"\"Plot the initial centres\"\"\"\n",
    "ax = plt.scatter(initial_centres[:,0], initial_centres[:,1])\n",
    "\n",
    "\"\"\"Find the cluster centres using Kmeans\"\"\"\n",
    "centres, labels = my_kmeans.find_cluster_centres(initial_centres)\n",
    "print(\"Final centres\")\n",
    "print(centres)\n",
    "\n",
    "\"\"\"Plot the data clusters given by Kmeans\"\"\"\n",
    "dataa = data[np.where(labels[:,0] == 0)]\n",
    "datab = data[np.where(labels[:,0] == 1)]\n",
    "datac = data[np.where(labels[:,0] == 2)]\n",
    "datad = data[np.where(labels[:,0] == 3)]\n",
    "\n",
    "ax = plt.scatter(dataa[:,0], dataa[:,1])\n",
    "ax = plt.scatter(datab[:,0], datab[:,1])\n",
    "ax = plt.scatter(datac[:,0], datac[:,1])\n",
    "ax = plt.scatter(datad[:,0], datad[:,1])\n",
    "ax = plt.scatter(centres[:,0], centres[:,1])"
   ]
  },
  {
   "cell_type": "markdown",
   "metadata": {},
   "source": [
    "## 2. Gradient Descent & Linear Regression"
   ]
  },
  {
   "cell_type": "code",
   "execution_count": 4,
   "metadata": {},
   "outputs": [],
   "source": [
    "class LinearFunction:\n",
    "    \"\"\"Form: y = Ax\"\"\"\n",
    "    def __init__(self, x, y):\n",
    "        self.n_feat = x.shape[0]\n",
    "        self.n_data = x.shape[1]\n",
    "        self.x = np.concatenate((np.ones((1, self.n_data)), x), axis=0)\n",
    "        #params will be an n_feat + 1 dimensional vector\n",
    "        self.y = y\n",
    "    \n",
    "    def value(self, params):\n",
    "        return params.dot(self.x)\n",
    "\n",
    "    def deriv(self, params):\n",
    "        return self.x\n",
    "\n",
    "\n",
    "class MeanSumSqDiffs:\n",
    "    def __init__(self, y, func):\n",
    "        self.y = y\n",
    "        self.func = func\n",
    "        self.yhat = np.zeros_like(y)\n",
    "    \n",
    "    def value(self, params):\n",
    "        self.y_hat = self.func.value(params)\n",
    "        return np.mean((self.y_hat - self.y)*(self.y_hat - self.y))\n",
    "    \n",
    "    def delta(self, params):\n",
    "        dy_hat = self.func.deriv(params)\n",
    "        return 2 * np.transpose(np.mean((self.y_hat - self.y) * dy_hat, axis=1, keepdims=True))\n",
    "\n",
    "\n",
    "class GradientDescent:\n",
    "    def __init__(self, cost_function, learning_rate = 0.1, tol = 0.01, max_iter = 10):\n",
    "        self.cost = cost_function\n",
    "        self.alpha = learning_rate\n",
    "        self.tol = tol\n",
    "        self.max_iter = max_iter\n",
    "        \n",
    "    def find_minima(self, initial_params):\n",
    "        params = np.copy(initial_params)\n",
    "        val = self.cost.value(params)\n",
    "        cost = [val]\n",
    "        for i in range(self.max_iter):\n",
    "            new_params = params - self.alpha * self.cost.delta(params)\n",
    "            new_val = self.cost.value(new_params)\n",
    "            cost.append(new_val)\n",
    "            if np.abs(new_val - val) < self.tol:\n",
    "                print('converged in {} iterations'.format(i))\n",
    "                break\n",
    "            params = np.copy(new_params)\n",
    "            val = np.copy(new_val)\n",
    "        return new_params, cost"
   ]
  },
  {
   "cell_type": "code",
   "execution_count": 5,
   "metadata": {
    "scrolled": false
   },
   "outputs": [
    {
     "name": "stdout",
     "output_type": "stream",
     "text": [
      "converged in 65 iterations\n"
     ]
    },
    {
     "data": {
      "image/png": "[encoded data removed]",
      "text/plain": [
       "<Figure size 432x288 with 1 Axes>"
      ]
     },
     "metadata": {
      "needs_background": "light"
     },
     "output_type": "display_data"
    }
   ],
   "source": [
    "\"\"\"Set up some data\"\"\"\n",
    "m = 11\n",
    "step = 1.0 / (m - 1)\n",
    "x = np.reshape(np.arange(0, 1 + step, step), (1, m))\n",
    "np.random.seed(1)\n",
    "noise = 0.25 * np.random.randn(1, m)\n",
    "params = np.reshape(np.array([3, 4]), (1, 2))\n",
    "y = np.reshape(params[0][0] + params[0][1] * x + noise, (1, m))\n",
    "\n",
    "\"\"\"Plot the data\"\"\"\n",
    "ax = plt.scatter(x, y)\n",
    "\n",
    "\"\"\"Set up classes and find the best params using GradientDescent\"\"\"\n",
    "linear_func = LinearFunction(x, y)\n",
    "cost_func = MeanSumSqDiffs(y, linear_func)\n",
    "grad_desc = GradientDescent(cost_func, learning_rate = 0.5, tol = 0.000001, max_iter = 100)\n",
    "params, cost = grad_desc.find_minima(np.reshape(np.array([1, 1]), (1, 2)))\n",
    "\n",
    "\"\"\"Plot our line of best fit\"\"\"\n",
    "yhat = linear_func.value(params)\n",
    "ax = plt.plot(np.transpose(x), np.transpose(yhat), 'red')"
   ]
  },
  {
   "cell_type": "code",
   "execution_count": 6,
   "metadata": {},
   "outputs": [
    {
     "data": {
      "image/png": "[encoded data removed]",
      "text/plain": [
       "<Figure size 432x288 with 1 Axes>"
      ]
     },
     "metadata": {
      "needs_background": "light"
     },
     "output_type": "display_data"
    }
   ],
   "source": [
    "\"\"\"Plot the cost\"\"\"\n",
    "start_index = 10\n",
    "plt.gcf().clear()\n",
    "plt.close()\n",
    "ax = plt.plot(list(range(start_index, len(cost), 1)), cost[start_index:])"
   ]
  },
  {
   "cell_type": "markdown",
   "metadata": {},
   "source": [
    "## 3. Logistic Regression\n",
    "\n",
    "### 3.1 Binary Classification"
   ]
  },
  {
   "cell_type": "code",
   "execution_count": 7,
   "metadata": {},
   "outputs": [],
   "source": [
    "class LogisticRegression:\n",
    "    def __init__(self, x, y):\n",
    "        self.n_feat = x.shape[0]\n",
    "        self.n_data = x.shape[1]\n",
    "        self.x = np.concatenate((np.ones((1, self.n_data)), x), axis=0)\n",
    "        #params will be an n_feat + 1 dimensional vector\n",
    "        self.y = np.reshape(y, (1, self.n_data))\n",
    "        self.prob = np.zeros_like(y)\n",
    "    \n",
    "    def z(self, params):\n",
    "        \"\"\"Linear Function of Form: z = Ax\"\"\"\n",
    "        return params.dot(self.x)\n",
    "    \n",
    "    def value(self, params):\n",
    "        \"\"\"sigmoid(z), z = Ax\"\"\"\n",
    "        self.prob = 1.0 / (1.0 + np.exp(-self.z(params)))\n",
    "        return self.prob\n",
    "\n",
    "\n",
    "class CrossEntropy:\n",
    "    def __init__(self, y, func):\n",
    "        self.n_data = y.shape[0]\n",
    "        self.y = np.reshape(y, (1, self.n_data))\n",
    "        self.y_hat = np.zeros_like(y)\n",
    "        self.func = func\n",
    "    \n",
    "    def value(self, params):\n",
    "        self.y_hat = self.func.value(params)\n",
    "        return - np.mean( y*np.log(self.y_hat) + (1.0 - y)*np.log(1.0 - self.y_hat) )\n",
    "    \n",
    "    def delta(self, params):\n",
    "        return (self.y_hat - self.y).dot(np.transpose(self.func.x))/self.n_data"
   ]
  },
  {
   "cell_type": "code",
   "execution_count": 8,
   "metadata": {},
   "outputs": [
    {
     "name": "stdout",
     "output_type": "stream",
     "text": [
      "converged in 78 iterations\n",
      "[[-0.73458739  3.04377256  2.72099494]]\n"
     ]
    },
    {
     "data": {
      "image/png": "[encoded data removed]",
      "text/plain": [
       "<Figure size 432x288 with 1 Axes>"
      ]
     },
     "metadata": {
      "needs_background": "light"
     },
     "output_type": "display_data"
    }
   ],
   "source": [
    "\"\"\"Set-up some data\"\"\"\n",
    "\n",
    "np.random.seed(1)\n",
    "x = 1\n",
    "m = 200\n",
    "data1 = np.concatenate((np.random.normal(size=(int(m/2), 2)) + [ x, x], np.ones((int(m/2), 1))), axis=1)\n",
    "data2 = np.concatenate((np.random.normal(size=(int(m/2), 2)) + [-x, -x], np.zeros((int(m/2), 1))), axis=1)\n",
    "data  = np.concatenate((data1, data2))\n",
    "np.random.shuffle(data)\n",
    "data_df = pd.DataFrame(data=data, columns=['x1', 'x2', 'y'])\n",
    "#display(data_df)\n",
    "\n",
    "y = data[:,2]\n",
    "#print(data[:,:2].shape)\n",
    "\n",
    "\"\"\"Plot the different classes\"\"\"\n",
    "ax = plt.scatter(data1[:,0], data1[:,1])\n",
    "ax = plt.scatter(data2[:,0], data2[:,1])\n",
    "\n",
    "\n",
    "\"\"\"Setup our objects\"\"\"\n",
    "model_prob = LogisticRegression(np.transpose(data[:,:2]), y)\n",
    "cost_func = CrossEntropy(y, model_prob)\n",
    "grad_desc = GradientDescent(cost_func, learning_rate = 3, tol = 0.00001, max_iter = 10000)\n",
    "\n",
    "\"\"\"Pick an initial guess for a decision boundary and plot it\"\"\"\n",
    "params = [1.0, -1.0, 1.0]\n",
    "dbx = np.arange(-5, 6, 1)\n",
    "dby = -(params[0] + params[1]*dbx)/params[2]\n",
    "ax = plt.plot(dbx, dby)\n",
    "\n",
    "\"\"\"Find the best params using GradienDescent and plot the new decision boundary\"\"\"\n",
    "params, cost = grad_desc.find_minima(np.reshape(np.array(params), (1, 3)))\n",
    "print(params)\n",
    "dby = -(params[0][0] + params[0][1]*dbx)/params[0][2]\n",
    "ax = plt.plot(dbx, dby, 'red')\n",
    "\n",
    "\"\"\"Print the final params\"\"\"\n",
    "y_hat = model_prob.value"
   ]
  },
  {
   "cell_type": "code",
   "execution_count": 9,
   "metadata": {},
   "outputs": [
    {
     "data": {
      "image/png": "[encoded data removed]",
      "text/plain": [
       "<Figure size 432x288 with 1 Axes>"
      ]
     },
     "metadata": {
      "needs_background": "light"
     },
     "output_type": "display_data"
    }
   ],
   "source": [
    "\"\"\"Plot the cost\"\"\"\n",
    "start_index = 10\n",
    "plt.gcf().clear()\n",
    "plt.close()\n",
    "ax = plt.plot(list(range(start_index, len(cost), 1)), cost[start_index:])"
   ]
  },
  {
   "cell_type": "markdown",
   "metadata": {},
   "source": [
    "### 3.2 Multiclass Classification"
   ]
  },
  {
   "cell_type": "code",
   "execution_count": 10,
   "metadata": {},
   "outputs": [
    {
     "name": "stdout",
     "output_type": "stream",
     "text": [
      "To be continued at a later date\n"
     ]
    }
   ],
   "source": [
    "\"\"\"\n",
    "class LogisticRegression:\n",
    "    def __init__(self, x, y, n_clases):\n",
    "        self.n_feat = x.shape[0]\n",
    "        self.n_data = x.shape[1]\n",
    "        self.n_classes = n_clases\n",
    "        self.x = np.concatenate((np.ones((self.n_data, 1)), x), axis=1)\n",
    "        #params will be an n_feat + 1 dimensional vector\n",
    "        self.y = y\n",
    "            \n",
    "    \n",
    "    def z(self, params):\n",
    "        #Linear Function of Form: z = Ax\n",
    "        return params.dot(self.x)\n",
    "    \n",
    "    def value(self, params):\n",
    "        #softmax(z), z = Ax\n",
    "        ez = np.exp(self.z(params))\n",
    "        ez_sum = np.sum(ez, axis=1)\n",
    "        return ez / ez_sum\n",
    "\n",
    "    def deriv(self, params):\n",
    "        return pass\n",
    "\n",
    "\n",
    "class CrossEntropy:\n",
    "    def __init__(self, y, n_classes, func):\n",
    "        self.n_data = y.shape[1]\n",
    "        self.n_classes = n_classes\n",
    "        self.y = y\n",
    "        self.y_hat = np.zeros_like(y)\n",
    "        self.func = func\n",
    "    \n",
    "    def value(self, params):\n",
    "        y_hat = self.func.value(params)\n",
    "        # yhat is an n_classes X n_data\n",
    "        for i in range(self.n_data):\n",
    "            self.y_hat[i] = y_hat[self.y[i], i]\n",
    "        return -np.sum( np.log(self.yhat) )\n",
    "    \n",
    "    def delta(self, params):\n",
    "        dy_hat = self.func.deriv(params)\n",
    "        #print('testing', np.mean((self.y_hat - self.y) * dy_hat, axis=0, keepdims=True).shape)\n",
    "        return pass\n",
    "\"\"\"\n",
    "print('To be continued at a later date')"
   ]
  },
  {
   "cell_type": "code",
   "execution_count": null,
   "metadata": {},
   "outputs": [],
   "source": []
  },
  {
   "cell_type": "code",
   "execution_count": null,
   "metadata": {},
   "outputs": [],
   "source": []
  },
  {
   "cell_type": "markdown",
   "metadata": {},
   "source": [
    "## 4. Principal Components Analysis"
   ]
  },
  {
   "cell_type": "code",
   "execution_count": 11,
   "metadata": {},
   "outputs": [],
   "source": [
    "class PCA:\n",
    "    def __init__(self, X):\n",
    "        self.n_data = X.shape[0]\n",
    "        self.n_feat = X.shape[1]\n",
    "        self.X = np.transpose(X)\n",
    "        self.mu = np.mean(self.X, axis=1, keepdims=1)\n",
    "        self.var = np.var(self.X, axis=1, keepdims=1, ddof=1)\n",
    "        self.eigenvalues, self.eigenvectors = self.sort_eigens()\n",
    "        self.transformed_X = self.X.T.dot(self.eigenvectors)\n",
    "        \n",
    "    def calculation_checks(self):\n",
    "        print('\\ncorrelation matrix check (rho = {}):'.format(rho))\n",
    "        print(np.cov(self.X - self.mu)/np.sqrt(self.var[0]*self.var[1]))\n",
    "        \n",
    "        print('\\nmean:')\n",
    "        print(self.mu.T)\n",
    "        print('transformed mean:')\n",
    "        print(self.mu.T.dot(self.eigenvectors))\n",
    "        print('transformed data mean:')\n",
    "        print(np.mean(self.transformed_X, axis=0))\n",
    "        \n",
    "        print('\\nvariance:')\n",
    "        print(self.var.T, np.sum(self.var))\n",
    "        print('transformed data variance:')\n",
    "        print(np.var(self.transformed_X, axis=0, ddof=1), np.sum(np.var(self.transformed_X, axis=0, ddof=1)))\n",
    "        print('eigenvalues:')\n",
    "        print(self.eigenvalues, np.sum(self.eigenvalues))\n",
    "        print('eigenvectors:')\n",
    "        print(self.eigenvectors)\n",
    "        \n",
    "        print('\\nexplained variance:')\n",
    "        print(self.explained_variance())\n",
    "    \n",
    "    def sort_eigens(self):\n",
    "        vals, vecs = np.linalg.eig(np.cov(self.X - self.mu))\n",
    "        index_order = vals.argsort()[::-1]\n",
    "        return vals[index_order], vecs[:,index_order]\n",
    "    \n",
    "    def explained_variance(self):\n",
    "        total_var = sum(self.eigenvalues)\n",
    "        return [val / total_var for val in self.eigenvalues]"
   ]
  },
  {
   "cell_type": "code",
   "execution_count": 12,
   "metadata": {},
   "outputs": [
    {
     "name": "stdout",
     "output_type": "stream",
     "text": [
      "rho =  0.8 sqrt(1-rho*rho) =  0.5999999999999999\n",
      "\n",
      "correlation matrix check (rho = 0.8):\n",
      "[[1.06411064 0.7729556 ]\n",
      " [0.7729556  0.93975191]]\n",
      "\n",
      "mean:\n",
      "[[2.07531502 2.07591412]]\n",
      "transformed mean:\n",
      "[[2.93298138 0.11820359]]\n",
      "transformed data mean:\n",
      "[2.93298138 0.11820359]\n",
      "\n",
      "variance:\n",
      "[[0.95602214 0.84429531]] 1.8003174522884442\n",
      "transformed data variance:\n",
      "[1.59684361 0.20347384] 1.8003174522884442\n",
      "eigenvalues:\n",
      "[1.59684361 0.20347384] 1.8003174522884446\n",
      "eigenvectors:\n",
      "[[ 0.73490973 -0.67816494]\n",
      " [ 0.67816494  0.73490973]]\n",
      "\n",
      "explained variance:\n",
      "[0.8869789079194753, 0.1130210920805246]\n"
     ]
    },
    {
     "data": {
      "image/png": "[encoded data removed]",
      "text/plain": [
       "<Figure size 432x288 with 1 Axes>"
      ]
     },
     "metadata": {
      "needs_background": "light"
     },
     "output_type": "display_data"
    }
   ],
   "source": [
    "\"\"\"Set-up some data and plot it\"\"\"\n",
    "\n",
    "np.random.seed(1)\n",
    "m = 200\n",
    "rho = 0.8\n",
    "print('rho = ', rho, 'sqrt(1-rho*rho) = ', np.sqrt(1.0 - rho*rho))\n",
    "data = np.random.normal(size=(m, 2))\n",
    "data[:,1] = rho*data[:,0] + np.sqrt(1.0-rho*rho)*data[:,1]\n",
    "data = data + 2.0\n",
    "ax = plt.scatter(data[:,0], data[:,1])\n",
    "\n",
    "\"\"\"Do PCA and do some checks on the results\"\"\"\n",
    "my_PCA = PCA(data)\n",
    "my_PCA.calculation_checks()"
   ]
  },
  {
   "cell_type": "code",
   "execution_count": 13,
   "metadata": {},
   "outputs": [
    {
     "data": {
      "image/png": "[encoded data removed]",
      "text/plain": [
       "<Figure size 432x288 with 1 Axes>"
      ]
     },
     "metadata": {
      "needs_background": "light"
     },
     "output_type": "display_data"
    }
   ],
   "source": [
    "\"\"\"Plot the data in transformed space\"\"\"\n",
    "new_data = my_PCA.transformed_X\n",
    "plt.gcf().clear()\n",
    "plt.close()\n",
    "ax = plt.scatter(new_data[:,0], new_data[:,1])"
   ]
  },
  {
   "cell_type": "markdown",
   "metadata": {},
   "source": [
    "## 5. K Nearest Neighbours"
   ]
  },
  {
   "cell_type": "code",
   "execution_count": 14,
   "metadata": {},
   "outputs": [],
   "source": [
    "class KNN:\n",
    "    def __init__(self, x, y):\n",
    "        assert x.shape[0]== y.shape[0], 'KNN init: mismatched data sizes'\n",
    "        self.x = x\n",
    "        self.y = y\n",
    "        self.n_data = x.shape[0]\n",
    "        self.n_y = y.shape[1]\n",
    "    \n",
    "    def distances(self, p):\n",
    "        return np.sqrt(np.sum((p-self.x)*(p-self.x), axis=1))\n",
    "    \n",
    "    def predict(self, xs, k):\n",
    "        n_xs = xs.shape[0]\n",
    "        predictions = np.ones((n_xs, self.n_y))\n",
    "        for i in range(n_xs):\n",
    "            k_indices = np.argsort(self.distances(xs[i,:]))[::-1][:k]\n",
    "            knn = self.x[k_indices, :]\n",
    "            if self.n_y == 1: predictions[i,:] = np.mean(knn)\n",
    "            else:             predictions[i,:] = np.mean(knn, axis=1)\n",
    "        return predictions"
   ]
  },
  {
   "cell_type": "code",
   "execution_count": 15,
   "metadata": {},
   "outputs": [
    {
     "name": "stdout",
     "output_type": "stream",
     "text": [
      "xs, ys\n",
      "[[-2.85106954  0.82312342  1.38623144]\n",
      " [-0.27474362 -0.68810141  1.92592107]\n",
      " [ 1.12008084  0.25209284 -0.87787057]]\n"
     ]
    }
   ],
   "source": [
    "\"\"\"Setup some data\"\"\"\n",
    "np.random.seed(1)\n",
    "m = 2000\n",
    "rho = np.array([0.6, 0.2])\n",
    "data = np.random.normal(size=(m, 3))\n",
    "data[:,2] = rho[0]*data[:,0] + rho[1]*data[:,1] + np.sqrt(1.0-np.sum(rho*rho))*data[:,2]\n",
    "\n",
    "\"\"\"Pick some xs to make predictions for\"\"\"\n",
    "xs = np.random.normal(size=(3, 2))\n",
    "\n",
    "\"\"\"Setup the KNN object and predict the ys for our xs\"\"\"\n",
    "my_knn = KNN(data[:,:2], data[:,2].reshape((m, 1)))\n",
    "ys = my_knn.predict(xs, 5)\n",
    "\n",
    "\"\"\"Print the xs and ys next to each other\"\"\"\n",
    "print('xs, ys')\n",
    "print(np.concatenate((xs, ys), axis=1))"
   ]
  },
  {
   "cell_type": "markdown",
   "metadata": {},
   "source": [
    "## 6. Decision Trees"
   ]
  },
  {
   "cell_type": "code",
   "execution_count": null,
   "metadata": {},
   "outputs": [],
   "source": []
  }
 ],
 "metadata": {
  "kernelspec": {
   "display_name": "Python 3",
   "language": "python",
   "name": "python3"
  },
  "language_info": {
   "codemirror_mode": {
    "name": "ipython",
    "version": 3
   },
   "file_extension": ".py",
   "mimetype": "text/x-python",
   "name": "python",
   "nbconvert_exporter": "python",
   "pygments_lexer": "ipython3",
   "version": "3.7.1"
  }
 },
 "nbformat": 4,
 "nbformat_minor": 2
}
